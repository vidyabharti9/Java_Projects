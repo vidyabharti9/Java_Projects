{
  "nbformat": 4,
  "nbformat_minor": 0,
  "metadata": {
    "colab": {
      "provenance": []
    },
    "kernelspec": {
      "name": "python3",
      "display_name": "Python 3"
    },
    "language_info": {
      "name": "python"
    }
  },
  "cells": [
    {
      "cell_type": "code",
      "source": [
        "from keras.datasets import imdb\n",
        "from keras.preprocessing.sequence import pad_sequences\n",
        "from keras.models import Sequential\n",
        "from keras.layers import Embedding, SpatialDropout1D, LSTM, Dense\n",
        "\n",
        "vocab_size = 11000\n",
        "max_length = 200\n",
        "(x_train, y_train), (x_test, y_test) = imdb.load_data(num_words=vocab_size)\n",
        "\n",
        "\n",
        "x_train = pad_sequences(x_train, maxlen=max_length)\n",
        "x_test = pad_sequences(x_test, maxlen=max_length)\n",
        "\n",
        "\n",
        "model = Sequential()\n",
        "model.add(Embedding(vocab_size, 64, input_length=max_length))\n",
        "model.add(SpatialDropout1D(0.3))\n",
        "model.add(LSTM(64, dropout=0.3, recurrent_dropout=0.3, return_sequences=True))\n",
        "model.add(LSTM(32, dropout=0.3, recurrent_dropout=0.3))\n",
        "model.add(Dense(1, activation='sigmoid'))\n",
        "\n",
        "\n",
        "model.compile(loss='binary_crossentropy', optimizer='adam', metrics=['accuracy'])\n",
        "\n",
        "\n",
        "batch_size = 64\n",
        "epochs = 1\n",
        "model.fit(x_train, y_train, epochs=epochs, batch_size=batch_size, validation_data=(x_test, y_test))\n",
        "\n",
        "score, acc = model.evaluate(x_test, y_test, batch_size=batch_size)\n",
        "print(\"Test Accuracy:\", acc)"
      ],
      "metadata": {
        "colab": {
          "base_uri": "https://localhost:8080/"
        },
        "id": "ruEiQuHxhjAc",
        "outputId": "ce36f7ea-1f53-4e42-a661-21a3c6476d38"
      },
      "execution_count": 6,
      "outputs": [
        {
          "output_type": "stream",
          "name": "stdout",
          "text": [
            "391/391 [==============================] - 280s 699ms/step - loss: 0.4412 - accuracy: 0.7894 - val_loss: 0.3469 - val_accuracy: 0.8530\n",
            "391/391 [==============================] - 33s 84ms/step - loss: 0.3469 - accuracy: 0.8530\n",
            "Test Accuracy: 0.8530399799346924\n"
          ]
        }
      ]
    },
    {
      "cell_type": "code",
      "source": [],
      "metadata": {
        "id": "GH2W3p-gl3v4"
      },
      "execution_count": null,
      "outputs": []
    }
  ]
}